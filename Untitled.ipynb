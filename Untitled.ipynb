{
 "cells": [
  {
   "cell_type": "code",
   "execution_count": 4,
   "metadata": {},
   "outputs": [
    {
     "name": "stdout",
     "output_type": "stream",
     "text": [
      "\u001b[33mDEPRECATION: Python 2.7 reached the end of its life on January 1st, 2020. Please upgrade your Python as Python 2.7 is no longer maintained. pip 21.0 will drop support for Python 2.7 in January 2021. More details about Python 2 support in pip can be found at https://pip.pypa.io/en/latest/development/release-process/#python-2-support pip 21.0 will remove support for this functionality.\u001b[0m\n",
      "Defaulting to user installation because normal site-packages is not writeable\n",
      "Collecting opencv-python\n",
      "  Downloading opencv-python-4.3.0.38.tar.gz (88.0 MB)\n",
      "\u001b[K     |████████████████████████████████| 88.0 MB 87 kB/s  eta 0:00:01\n",
      "\u001b[?25h  Installing build dependencies ... \u001b[?25ldone\n",
      "\u001b[?25h  Getting requirements to build wheel ... \u001b[?25lerror\n",
      "\u001b[31m  ERROR: Command errored out with exit status 1:\n",
      "   command: /System/Library/Frameworks/Python.framework/Versions/2.7/Resources/Python.app/Contents/MacOS/Python /Library/Python/2.7/site-packages/pip-20.3.3-py2.7.egg/pip/_vendor/pep517/_in_process.py get_requires_for_build_wheel /var/folders/6s/zrn1js5d0yxfxnxgy216r4dc0000gn/T/tmpmV_yMV\n",
      "       cwd: /private/var/folders/6s/zrn1js5d0yxfxnxgy216r4dc0000gn/T/pip-install-B3m4Z1/opencv-python\n",
      "  Complete output (22 lines):\n",
      "  Traceback (most recent call last):\n",
      "    File \"/Library/Python/2.7/site-packages/pip-20.3.3-py2.7.egg/pip/_vendor/pep517/_in_process.py\", line 280, in <module>\n",
      "      main()\n",
      "    File \"/Library/Python/2.7/site-packages/pip-20.3.3-py2.7.egg/pip/_vendor/pep517/_in_process.py\", line 263, in main\n",
      "      json_out['return_val'] = hook(**hook_input['kwargs'])\n",
      "    File \"/Library/Python/2.7/site-packages/pip-20.3.3-py2.7.egg/pip/_vendor/pep517/_in_process.py\", line 114, in get_requires_for_build_wheel\n",
      "      return hook(config_settings)\n",
      "    File \"/private/var/folders/6s/zrn1js5d0yxfxnxgy216r4dc0000gn/T/pip-build-env-F8sZlK/overlay/lib/python2.7/site-packages/setuptools/build_meta.py\", line 146, in get_requires_for_build_wheel\n",
      "      return self._get_build_requires(config_settings, requirements=['wheel'])\n",
      "    File \"/private/var/folders/6s/zrn1js5d0yxfxnxgy216r4dc0000gn/T/pip-build-env-F8sZlK/overlay/lib/python2.7/site-packages/setuptools/build_meta.py\", line 127, in _get_build_requires\n",
      "      self.run_setup()\n",
      "    File \"/private/var/folders/6s/zrn1js5d0yxfxnxgy216r4dc0000gn/T/pip-build-env-F8sZlK/overlay/lib/python2.7/site-packages/setuptools/build_meta.py\", line 243, in run_setup\n",
      "      self).run_setup(setup_script=setup_script)\n",
      "    File \"/private/var/folders/6s/zrn1js5d0yxfxnxgy216r4dc0000gn/T/pip-build-env-F8sZlK/overlay/lib/python2.7/site-packages/setuptools/build_meta.py\", line 142, in run_setup\n",
      "      exec(compile(code, __file__, 'exec'), locals())\n",
      "    File \"setup.py\", line 448, in <module>\n",
      "      main()\n",
      "    File \"setup.py\", line 99, in main\n",
      "      % {\"ext\": re.escape(sysconfig.get_config_var(\"EXT_SUFFIX\"))}\n",
      "    File \"/System/Library/Frameworks/Python.framework/Versions/2.7/lib/python2.7/re.py\", line 210, in escape\n",
      "      s = list(pattern)\n",
      "  TypeError: 'NoneType' object is not iterable\n",
      "  ----------------------------------------\u001b[0m\n",
      "\u001b[31mERROR: Command errored out with exit status 1: /System/Library/Frameworks/Python.framework/Versions/2.7/Resources/Python.app/Contents/MacOS/Python /Library/Python/2.7/site-packages/pip-20.3.3-py2.7.egg/pip/_vendor/pep517/_in_process.py get_requires_for_build_wheel /var/folders/6s/zrn1js5d0yxfxnxgy216r4dc0000gn/T/tmpmV_yMV Check the logs for full command output.\u001b[0m\n",
      "\u001b[?25h"
     ]
    }
   ],
   "source": [
    "!pip install opencv-python"
   ]
  },
  {
   "cell_type": "code",
   "execution_count": null,
   "metadata": {},
   "outputs": [],
   "source": [
    "import os\n",
    "import cv2"
   ]
  },
  {
   "cell_type": "code",
   "execution_count": null,
   "metadata": {},
   "outputs": [],
   "source": [
    "cam = cv2.VideoCapture(\"C:\\\\Users\\\\Admin\\\\PycharmProjects\\\\project_1\\\\openCV.mp4\") \n",
    "  \n",
    "try: \n",
    "      \n",
    "    # creating a folder named data \n",
    "    if not os.path.exists('data'): \n",
    "        os.makedirs('data') \n",
    "  \n",
    "# if not created then raise error \n",
    "except OSError: \n",
    "    print ('Error: Creating directory of data') \n",
    "  \n",
    "# frame \n",
    "currentframe = 0\n",
    "  \n",
    "while(True): \n",
    "      \n",
    "    # reading from frame \n",
    "    ret,frame = cam.read() \n",
    "  \n",
    "    if ret: \n",
    "        # if video is still left continue creating images \n",
    "        name = './data/frame' + str(currentframe) + '.jpg'\n",
    "        print ('Creating...' + name) \n",
    "  \n",
    "        # writing the extracted images \n",
    "        cv2.imwrite(name, frame) \n",
    "  \n",
    "        # increasing counter so that it will \n",
    "        # show how many frames are created \n",
    "        currentframe += 1\n",
    "    else: \n",
    "        break\n",
    "  \n",
    "# Release all space and windows once done \n",
    "cam.release() \n",
    "cv2.destroyAllWindows() "
   ]
  },
  {
   "cell_type": "code",
   "execution_count": null,
   "metadata": {},
   "outputs": [],
   "source": []
  },
  {
   "cell_type": "code",
   "execution_count": null,
   "metadata": {},
   "outputs": [],
   "source": []
  },
  {
   "cell_type": "code",
   "execution_count": null,
   "metadata": {},
   "outputs": [],
   "source": []
  }
 ],
 "metadata": {
  "kernelspec": {
   "display_name": "Python 3",
   "language": "python",
   "name": "python3"
  },
  "language_info": {
   "codemirror_mode": {
    "name": "ipython",
    "version": 3
   },
   "file_extension": ".py",
   "mimetype": "text/x-python",
   "name": "python",
   "nbconvert_exporter": "python",
   "pygments_lexer": "ipython3",
   "version": "3.8.5"
  }
 },
 "nbformat": 4,
 "nbformat_minor": 4
}
